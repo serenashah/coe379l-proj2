{
 "cells": [
  {
   "cell_type": "markdown",
   "metadata": {},
   "source": [
    "# Project 2 Model Classification\n",
    "### Serena Shah | ss94574\n",
    "## Part 1"
   ]
  },
  {
   "cell_type": "markdown",
   "metadata": {},
   "source": [
    "We first import necessary libraries and and loading the data into a Pandas dataframe."
   ]
  },
  {
   "cell_type": "code",
   "execution_count": 361,
   "metadata": {},
   "outputs": [],
   "source": [
    "import pandas as pd\n",
    "import numpy as np\n",
    "\n",
    "# read in data\n",
    "bc = pd.read_csv('data/project2.data')"
   ]
  },
  {
   "cell_type": "markdown",
   "metadata": {},
   "source": [
    "We now identify the shape and size of the raw data."
   ]
  },
  {
   "cell_type": "code",
   "execution_count": 362,
   "metadata": {},
   "outputs": [
    {
     "data": {
      "text/plain": [
       "(286, 10)"
      ]
     },
     "execution_count": 362,
     "metadata": {},
     "output_type": "execute_result"
    }
   ],
   "source": [
    "# data shape\n",
    "bc.shape"
   ]
  },
  {
   "cell_type": "markdown",
   "metadata": {},
   "source": []
  },
  {
   "cell_type": "code",
   "execution_count": 363,
   "metadata": {},
   "outputs": [
    {
     "data": {
      "text/plain": [
       "2860"
      ]
     },
     "execution_count": 363,
     "metadata": {},
     "output_type": "execute_result"
    }
   ],
   "source": [
    "# data size\n",
    "bc.size"
   ]
  },
  {
   "cell_type": "markdown",
   "metadata": {},
   "source": [
    "Next we look at information about the data types of the data columns."
   ]
  },
  {
   "cell_type": "code",
   "execution_count": 364,
   "metadata": {},
   "outputs": [
    {
     "name": "stdout",
     "output_type": "stream",
     "text": [
      "<class 'pandas.core.frame.DataFrame'>\n",
      "RangeIndex: 286 entries, 0 to 285\n",
      "Data columns (total 10 columns):\n",
      " #   Column       Non-Null Count  Dtype \n",
      "---  ------       --------------  ----- \n",
      " 0   class        286 non-null    object\n",
      " 1   age          286 non-null    object\n",
      " 2   menopause    286 non-null    object\n",
      " 3   tumor-size   286 non-null    object\n",
      " 4   inv-nodes    286 non-null    object\n",
      " 5   node-caps    286 non-null    object\n",
      " 6   deg-malig    286 non-null    int64 \n",
      " 7   breast       286 non-null    object\n",
      " 8   breast-quad  286 non-null    object\n",
      " 9   irradiat     286 non-null    object\n",
      "dtypes: int64(1), object(9)\n",
      "memory usage: 22.5+ KB\n"
     ]
    }
   ],
   "source": [
    "bc.info()"
   ]
  },
  {
   "cell_type": "markdown",
   "metadata": {},
   "source": [
    "The non-null counts for all variables aligns with the length of the dataframe: 286. This indicates there are no NaN or missing values to account for in preprocessing on first look. Further investigation shows questionable values in the `node-caps` and `breast-quad` columns."
   ]
  },
  {
   "cell_type": "code",
   "execution_count": 365,
   "metadata": {},
   "outputs": [
    {
     "data": {
      "text/plain": [
       "array(['no', 'yes', '?'], dtype=object)"
      ]
     },
     "execution_count": 365,
     "metadata": {},
     "output_type": "execute_result"
    }
   ],
   "source": [
    "bc['node-caps'].unique()"
   ]
  },
  {
   "cell_type": "code",
   "execution_count": 366,
   "metadata": {},
   "outputs": [
    {
     "data": {
      "text/plain": [
       "array(['left_low', 'right_up', 'left_up', 'right_low', 'central', '?'],\n",
       "      dtype=object)"
      ]
     },
     "execution_count": 366,
     "metadata": {},
     "output_type": "execute_result"
    }
   ],
   "source": [
    "bc['breast-quad'].unique()"
   ]
  },
  {
   "cell_type": "markdown",
   "metadata": {},
   "source": [
    "There are `?` values in both the `node-caps` and `breast-quad` columns. These need to be replaced with their most frequent value, or the mode of the column."
   ]
  },
  {
   "cell_type": "code",
   "execution_count": 367,
   "metadata": {},
   "outputs": [],
   "source": [
    "# replace ? with the mode for breast-quad and node-caps\n",
    "bc['breast-quad'] = bc['breast-quad'].replace('?', bc['breast-quad'].mode()[0])\n",
    "bc['node-caps'] = bc['node-caps'].replace('?', bc['node-caps'].mode()[0])"
   ]
  },
  {
   "cell_type": "markdown",
   "metadata": {},
   "source": [
    "Now we can see that the `?` values no longer exist for each column below."
   ]
  },
  {
   "cell_type": "code",
   "execution_count": 368,
   "metadata": {},
   "outputs": [
    {
     "data": {
      "text/plain": [
       "array(['left_low', 'right_up', 'left_up', 'right_low', 'central'],\n",
       "      dtype=object)"
      ]
     },
     "execution_count": 368,
     "metadata": {},
     "output_type": "execute_result"
    }
   ],
   "source": [
    "bc['breast-quad'].unique()"
   ]
  },
  {
   "cell_type": "code",
   "execution_count": 369,
   "metadata": {},
   "outputs": [
    {
     "data": {
      "text/plain": [
       "array(['no', 'yes'], dtype=object)"
      ]
     },
     "execution_count": 369,
     "metadata": {},
     "output_type": "execute_result"
    }
   ],
   "source": [
    "bc['node-caps'].unique()"
   ]
  },
  {
   "cell_type": "markdown",
   "metadata": {},
   "source": [
    "Now we'll look into variable datatypes."
   ]
  },
  {
   "cell_type": "code",
   "execution_count": 370,
   "metadata": {},
   "outputs": [
    {
     "name": "stdout",
     "output_type": "stream",
     "text": [
      "<class 'pandas.core.frame.DataFrame'>\n",
      "RangeIndex: 286 entries, 0 to 285\n",
      "Data columns (total 10 columns):\n",
      " #   Column       Non-Null Count  Dtype \n",
      "---  ------       --------------  ----- \n",
      " 0   class        286 non-null    object\n",
      " 1   age          286 non-null    object\n",
      " 2   menopause    286 non-null    object\n",
      " 3   tumor-size   286 non-null    object\n",
      " 4   inv-nodes    286 non-null    object\n",
      " 5   node-caps    286 non-null    object\n",
      " 6   deg-malig    286 non-null    int64 \n",
      " 7   breast       286 non-null    object\n",
      " 8   breast-quad  286 non-null    object\n",
      " 9   irradiat     286 non-null    object\n",
      "dtypes: int64(1), object(9)\n",
      "memory usage: 22.5+ KB\n"
     ]
    }
   ],
   "source": [
    "bc.info()"
   ]
  },
  {
   "cell_type": "markdown",
   "metadata": {},
   "source": [
    "Other than the `deg-malig` variable, which is of `int` type, all variables in the breast cancer dataset are of `object` types. Let's get a better idea of the reported value formats for each variable."
   ]
  },
  {
   "cell_type": "code",
   "execution_count": 371,
   "metadata": {},
   "outputs": [
    {
     "data": {
      "text/html": [
       "<div>\n",
       "<style scoped>\n",
       "    .dataframe tbody tr th:only-of-type {\n",
       "        vertical-align: middle;\n",
       "    }\n",
       "\n",
       "    .dataframe tbody tr th {\n",
       "        vertical-align: top;\n",
       "    }\n",
       "\n",
       "    .dataframe thead th {\n",
       "        text-align: right;\n",
       "    }\n",
       "</style>\n",
       "<table border=\"1\" class=\"dataframe\">\n",
       "  <thead>\n",
       "    <tr style=\"text-align: right;\">\n",
       "      <th></th>\n",
       "      <th>class</th>\n",
       "      <th>age</th>\n",
       "      <th>menopause</th>\n",
       "      <th>tumor-size</th>\n",
       "      <th>inv-nodes</th>\n",
       "      <th>node-caps</th>\n",
       "      <th>deg-malig</th>\n",
       "      <th>breast</th>\n",
       "      <th>breast-quad</th>\n",
       "      <th>irradiat</th>\n",
       "    </tr>\n",
       "  </thead>\n",
       "  <tbody>\n",
       "    <tr>\n",
       "      <th>0</th>\n",
       "      <td>no-recurrence-events</td>\n",
       "      <td>30-39</td>\n",
       "      <td>premeno</td>\n",
       "      <td>30-34</td>\n",
       "      <td>0-2</td>\n",
       "      <td>no</td>\n",
       "      <td>3</td>\n",
       "      <td>left</td>\n",
       "      <td>left_low</td>\n",
       "      <td>no</td>\n",
       "    </tr>\n",
       "    <tr>\n",
       "      <th>1</th>\n",
       "      <td>no-recurrence-events</td>\n",
       "      <td>40-49</td>\n",
       "      <td>premeno</td>\n",
       "      <td>20-24</td>\n",
       "      <td>0-2</td>\n",
       "      <td>no</td>\n",
       "      <td>2</td>\n",
       "      <td>right</td>\n",
       "      <td>right_up</td>\n",
       "      <td>no</td>\n",
       "    </tr>\n",
       "    <tr>\n",
       "      <th>2</th>\n",
       "      <td>no-recurrence-events</td>\n",
       "      <td>40-49</td>\n",
       "      <td>premeno</td>\n",
       "      <td>20-24</td>\n",
       "      <td>0-2</td>\n",
       "      <td>no</td>\n",
       "      <td>2</td>\n",
       "      <td>left</td>\n",
       "      <td>left_low</td>\n",
       "      <td>no</td>\n",
       "    </tr>\n",
       "    <tr>\n",
       "      <th>3</th>\n",
       "      <td>no-recurrence-events</td>\n",
       "      <td>60-69</td>\n",
       "      <td>ge40</td>\n",
       "      <td>15-19</td>\n",
       "      <td>0-2</td>\n",
       "      <td>no</td>\n",
       "      <td>2</td>\n",
       "      <td>right</td>\n",
       "      <td>left_up</td>\n",
       "      <td>no</td>\n",
       "    </tr>\n",
       "    <tr>\n",
       "      <th>4</th>\n",
       "      <td>no-recurrence-events</td>\n",
       "      <td>40-49</td>\n",
       "      <td>premeno</td>\n",
       "      <td>0-4</td>\n",
       "      <td>0-2</td>\n",
       "      <td>no</td>\n",
       "      <td>2</td>\n",
       "      <td>right</td>\n",
       "      <td>right_low</td>\n",
       "      <td>no</td>\n",
       "    </tr>\n",
       "  </tbody>\n",
       "</table>\n",
       "</div>"
      ],
      "text/plain": [
       "                  class    age menopause tumor-size inv-nodes node-caps  \\\n",
       "0  no-recurrence-events  30-39   premeno      30-34       0-2        no   \n",
       "1  no-recurrence-events  40-49   premeno      20-24       0-2        no   \n",
       "2  no-recurrence-events  40-49   premeno      20-24       0-2        no   \n",
       "3  no-recurrence-events  60-69      ge40      15-19       0-2        no   \n",
       "4  no-recurrence-events  40-49   premeno        0-4       0-2        no   \n",
       "\n",
       "   deg-malig breast breast-quad irradiat  \n",
       "0          3   left    left_low       no  \n",
       "1          2  right    right_up       no  \n",
       "2          2   left    left_low       no  \n",
       "3          2  right     left_up       no  \n",
       "4          2  right   right_low       no  "
      ]
     },
     "execution_count": 371,
     "metadata": {},
     "output_type": "execute_result"
    }
   ],
   "source": [
    "bc.head()"
   ]
  },
  {
   "cell_type": "markdown",
   "metadata": {},
   "source": [
    "Because variables with numeric values are reported in ranges, and are therefore ordinal, there is no need for one-hot encoding, though they can be converted to `category` type. However the `class`, `menopause`, `node-caps`, `breast`, `breast-quad`, and `iraddiat` variables are non-ordinal categorical and therefore require a conversion to `category` type through one-hot encoding. \n",
    "\n",
    "First we'll cast the column values to categories."
   ]
  },
  {
   "cell_type": "code",
   "execution_count": 372,
   "metadata": {},
   "outputs": [
    {
     "name": "stdout",
     "output_type": "stream",
     "text": [
      "<class 'pandas.core.frame.DataFrame'>\n",
      "RangeIndex: 286 entries, 0 to 285\n",
      "Data columns (total 10 columns):\n",
      " #   Column       Non-Null Count  Dtype   \n",
      "---  ------       --------------  -----   \n",
      " 0   class        286 non-null    category\n",
      " 1   age          286 non-null    category\n",
      " 2   menopause    286 non-null    category\n",
      " 3   tumor-size   286 non-null    category\n",
      " 4   inv-nodes    286 non-null    category\n",
      " 5   node-caps    286 non-null    category\n",
      " 6   deg-malig    286 non-null    int64   \n",
      " 7   breast       286 non-null    category\n",
      " 8   breast-quad  286 non-null    category\n",
      " 9   irradiat     286 non-null    category\n",
      "dtypes: category(9), int64(1)\n",
      "memory usage: 6.6 KB\n"
     ]
    }
   ],
   "source": [
    "# cast column vals to type category\n",
    "bc['class'] = bc['class'].astype(\"category\")\n",
    "bc['age'] = bc['age'].astype(\"category\")\n",
    "bc['menopause'] = bc['menopause'].astype(\"category\")\n",
    "bc['tumor-size'] = bc['tumor-size'].astype(\"category\")\n",
    "bc['inv-nodes'] = bc['inv-nodes'].astype(\"category\")\n",
    "bc['node-caps'] = bc['node-caps'].astype(\"category\")\n",
    "bc['breast'] = bc['breast'].astype(\"category\")\n",
    "bc['breast-quad'] = bc['breast-quad'].astype(\"category\")\n",
    "bc['irradiat'] = bc['irradiat'].astype(\"category\")\n",
    "\n",
    "bc.info()"
   ]
  },
  {
   "cell_type": "markdown",
   "metadata": {},
   "source": [
    "We can see that all categorical type columns have been converted to type `category`. Before one-hot encoding, we will perform univariate analysis on the dataset through visualization."
   ]
  },
  {
   "cell_type": "code",
   "execution_count": 373,
   "metadata": {},
   "outputs": [],
   "source": [
    "# import necessary libs\n",
    "import seaborn as sns\n",
    "import matplotlib.pyplot as plt"
   ]
  },
  {
   "cell_type": "markdown",
   "metadata": {},
   "source": [
    "We'll first visualize the count for each menopause status (either `premeno`, `ge40`, or `lt40`) for breast cancer patients."
   ]
  },
  {
   "cell_type": "code",
   "execution_count": 374,
   "metadata": {},
   "outputs": [
    {
     "data": {
      "text/plain": [
       "Text(0.5, 0, 'Menopause Status')"
      ]
     },
     "execution_count": 374,
     "metadata": {},
     "output_type": "execute_result"
    },
    {
     "data": {
      "image/png": "[encoded data removed]",
      "text/plain": [
       "<Figure size 640x480 with 1 Axes>"
      ]
     },
     "metadata": {},
     "output_type": "display_data"
    }
   ],
   "source": [
    "# countplot of menopause status\n",
    "sns.countplot(x=bc['menopause'])\n",
    "plt.title(\"Countplot of Menopause Status\")\n",
    "plt.xlabel(\"Menopause Status\")"
   ]
  },
  {
   "cell_type": "markdown",
   "metadata": {},
   "source": [
    "Next we'll visualize the count for the breast location with cancer."
   ]
  },
  {
   "cell_type": "code",
   "execution_count": 375,
   "metadata": {},
   "outputs": [
    {
     "data": {
      "text/plain": [
       "Text(0.5, 0, 'Breast')"
      ]
     },
     "execution_count": 375,
     "metadata": {},
     "output_type": "execute_result"
    },
    {
     "data": {
      "image/png": "[encoded data removed]",
      "text/plain": [
       "<Figure size 640x480 with 1 Axes>"
      ]
     },
     "metadata": {},
     "output_type": "display_data"
    }
   ],
   "source": [
    "# countplot of BC location\n",
    "sns.countplot(x=bc['breast'])\n",
    "plt.title(\"Countplot of BC location\")\n",
    "plt.xlabel(\"Breast\")"
   ]
  },
  {
   "cell_type": "markdown",
   "metadata": {},
   "source": [
    "It seems that breast cancer tumors are marginally more present in the left breast than the right with about 150 counts in the left breast and about 130 counts in the right. \n",
    "\n",
    "Lastly, we'll visualize the ranges for tumor size in breast cancer patients."
   ]
  },
  {
   "cell_type": "code",
   "execution_count": 376,
   "metadata": {},
   "outputs": [
    {
     "data": {
      "text/plain": [
       "Text(0.5, 0, 'count')"
      ]
     },
     "execution_count": 376,
     "metadata": {},
     "output_type": "execute_result"
    },
    {
     "data": {
      "image/png": "[encoded data removed]",
      "text/plain": [
       "<Figure size 640x480 with 1 Axes>"
      ]
     },
     "metadata": {},
     "output_type": "display_data"
    }
   ],
   "source": [
    "# count of tumor size range\n",
    "category_order = ['0-4', '5-9', '10-14', '15-19', '20-24', '25-29', '30-34', '35-39', '40-44', '45-49', '50-54']\n",
    "sns.countplot(data=bc['tumor-size'], order=category_order)\n",
    "plt.title(\"Histogram of Tumor Size\")\n",
    "plt.ylabel(\"Tumor Size Range (mm)\")\n",
    "plt.xlabel(\"count\")"
   ]
  },
  {
   "cell_type": "markdown",
   "metadata": {},
   "source": [
    "The countplot's distribution is fairly normal, though slightly skewed negative. It seems that tumor ranges are most often between 20 and 34 mm. \n",
    "\n",
    "Now that we've visualized the data through univariate analyses, we can convert our non-ordinal categorical columns to bits to improve the performance of our machine learning model to be instantiated later."
   ]
  },
  {
   "cell_type": "code",
   "execution_count": 377,
   "metadata": {},
   "outputs": [
    {
     "name": "stdout",
     "output_type": "stream",
     "text": [
      "<class 'pandas.core.frame.DataFrame'>\n",
      "RangeIndex: 286 entries, 0 to 285\n",
      "Data columns (total 14 columns):\n",
      " #   Column                   Non-Null Count  Dtype   \n",
      "---  ------                   --------------  -----   \n",
      " 0   age                      286 non-null    category\n",
      " 1   tumor-size               286 non-null    category\n",
      " 2   inv-nodes                286 non-null    category\n",
      " 3   deg-malig                286 non-null    int64   \n",
      " 4   class_recurrence-events  286 non-null    bool    \n",
      " 5   menopause_lt40           286 non-null    bool    \n",
      " 6   menopause_premeno        286 non-null    bool    \n",
      " 7   node-caps_yes            286 non-null    bool    \n",
      " 8   breast_right             286 non-null    bool    \n",
      " 9   breast-quad_left_low     286 non-null    bool    \n",
      " 10  breast-quad_left_up      286 non-null    bool    \n",
      " 11  breast-quad_right_low    286 non-null    bool    \n",
      " 12  breast-quad_right_up     286 non-null    bool    \n",
      " 13  irradiat_yes             286 non-null    bool    \n",
      "dtypes: bool(10), category(3), int64(1)\n",
      "memory usage: 6.9 KB\n"
     ]
    }
   ],
   "source": [
    "# categorical to bit conversion\n",
    "bc = pd.get_dummies(bc, columns=[\"class\", \"menopause\", \"node-caps\", \"breast\", \"breast-quad\", \"irradiat\"], drop_first=True)\n",
    "bc.info()"
   ]
  },
  {
   "cell_type": "markdown",
   "metadata": {},
   "source": [
    "We can see that each variable with *n* categories has been split into *n-1* columns."
   ]
  },
  {
   "cell_type": "markdown",
   "metadata": {},
   "source": [
    "# Part 2"
   ]
  }
 ],
 "metadata": {
  "kernelspec": {
   "display_name": "Python 3",
   "language": "python",
   "name": "python3"
  },
  "language_info": {
   "codemirror_mode": {
    "name": "ipython",
    "version": 3
   },
   "file_extension": ".py",
   "mimetype": "text/x-python",
   "name": "python",
   "nbconvert_exporter": "python",
   "pygments_lexer": "ipython3",
   "version": "3.10.11"
  }
 },
 "nbformat": 4,
 "nbformat_minor": 2
}
